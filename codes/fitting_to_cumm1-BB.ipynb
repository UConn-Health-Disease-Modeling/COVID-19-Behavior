{
 "cells": [
  {
   "cell_type": "code",
   "execution_count": 1,
   "id": "f36929ab",
   "metadata": {},
   "outputs": [],
   "source": [
    "import numpy as np\n",
    "from scipy.integrate import odeint\n",
    "import pandas as pd\n",
    "import matplotlib.pyplot as plt\n",
    "from scipy.optimize import curve_fit\n",
    "import scipy.stats\n",
    "from matplotlib.ticker import FuncFormatter"
   ]
  },
  {
   "cell_type": "markdown",
   "id": "63c1e4b4",
   "metadata": {},
   "source": [
    "# Real Data"
   ]
  },
  {
   "cell_type": "code",
   "execution_count": 2,
   "id": "8f96cdeb-23e5-4eb0-b2c3-ac89592fed93",
   "metadata": {
    "tags": []
   },
   "outputs": [],
   "source": [
    "Data = pd.read_csv('selected_Korean_data.csv',parse_dates=['date'],index_col= ['date'],)"
   ]
  },
  {
   "cell_type": "code",
   "execution_count": 3,
   "id": "f8d52182-f410-4fbd-84a5-8321b92bd789",
   "metadata": {},
   "outputs": [
    {
     "data": {
      "text/html": [
       "<div>\n",
       "<style scoped>\n",
       "    .dataframe tbody tr th:only-of-type {\n",
       "        vertical-align: middle;\n",
       "    }\n",
       "\n",
       "    .dataframe tbody tr th {\n",
       "        vertical-align: top;\n",
       "    }\n",
       "\n",
       "    .dataframe thead th {\n",
       "        text-align: right;\n",
       "    }\n",
       "</style>\n",
       "<table border=\"1\" class=\"dataframe\">\n",
       "  <thead>\n",
       "    <tr style=\"text-align: right;\">\n",
       "      <th></th>\n",
       "      <th>location</th>\n",
       "      <th>new_cases</th>\n",
       "      <th>reproduction_rate</th>\n",
       "      <th>new_deaths</th>\n",
       "      <th>hosp_patients</th>\n",
       "      <th>icu_patients</th>\n",
       "      <th>new_tests</th>\n",
       "      <th>positive_rate</th>\n",
       "      <th>new_vaccinations</th>\n",
       "      <th>people_vaccinated</th>\n",
       "      <th>people_fully_vaccinated</th>\n",
       "    </tr>\n",
       "    <tr>\n",
       "      <th>date</th>\n",
       "      <th></th>\n",
       "      <th></th>\n",
       "      <th></th>\n",
       "      <th></th>\n",
       "      <th></th>\n",
       "      <th></th>\n",
       "      <th></th>\n",
       "      <th></th>\n",
       "      <th></th>\n",
       "      <th></th>\n",
       "      <th></th>\n",
       "    </tr>\n",
       "  </thead>\n",
       "  <tbody>\n",
       "    <tr>\n",
       "      <th>2020-01-03</th>\n",
       "      <td>South Korea</td>\n",
       "      <td>0.0</td>\n",
       "      <td>0.0</td>\n",
       "      <td>0.0</td>\n",
       "      <td>0.0</td>\n",
       "      <td>0.0</td>\n",
       "      <td>0.0</td>\n",
       "      <td>0.0</td>\n",
       "      <td>0.0</td>\n",
       "      <td>0.0</td>\n",
       "      <td>0.0</td>\n",
       "    </tr>\n",
       "    <tr>\n",
       "      <th>2020-01-04</th>\n",
       "      <td>South Korea</td>\n",
       "      <td>0.0</td>\n",
       "      <td>0.0</td>\n",
       "      <td>0.0</td>\n",
       "      <td>0.0</td>\n",
       "      <td>0.0</td>\n",
       "      <td>0.0</td>\n",
       "      <td>0.0</td>\n",
       "      <td>0.0</td>\n",
       "      <td>0.0</td>\n",
       "      <td>0.0</td>\n",
       "    </tr>\n",
       "    <tr>\n",
       "      <th>2020-01-05</th>\n",
       "      <td>South Korea</td>\n",
       "      <td>0.0</td>\n",
       "      <td>0.0</td>\n",
       "      <td>0.0</td>\n",
       "      <td>0.0</td>\n",
       "      <td>0.0</td>\n",
       "      <td>0.0</td>\n",
       "      <td>0.0</td>\n",
       "      <td>0.0</td>\n",
       "      <td>0.0</td>\n",
       "      <td>0.0</td>\n",
       "    </tr>\n",
       "    <tr>\n",
       "      <th>2020-01-06</th>\n",
       "      <td>South Korea</td>\n",
       "      <td>0.0</td>\n",
       "      <td>0.0</td>\n",
       "      <td>0.0</td>\n",
       "      <td>0.0</td>\n",
       "      <td>0.0</td>\n",
       "      <td>0.0</td>\n",
       "      <td>0.0</td>\n",
       "      <td>0.0</td>\n",
       "      <td>0.0</td>\n",
       "      <td>0.0</td>\n",
       "    </tr>\n",
       "    <tr>\n",
       "      <th>2020-01-07</th>\n",
       "      <td>South Korea</td>\n",
       "      <td>0.0</td>\n",
       "      <td>0.0</td>\n",
       "      <td>0.0</td>\n",
       "      <td>0.0</td>\n",
       "      <td>0.0</td>\n",
       "      <td>0.0</td>\n",
       "      <td>0.0</td>\n",
       "      <td>0.0</td>\n",
       "      <td>0.0</td>\n",
       "      <td>0.0</td>\n",
       "    </tr>\n",
       "  </tbody>\n",
       "</table>\n",
       "</div>"
      ],
      "text/plain": [
       "               location  new_cases  reproduction_rate  new_deaths  \\\n",
       "date                                                                \n",
       "2020-01-03  South Korea        0.0                0.0         0.0   \n",
       "2020-01-04  South Korea        0.0                0.0         0.0   \n",
       "2020-01-05  South Korea        0.0                0.0         0.0   \n",
       "2020-01-06  South Korea        0.0                0.0         0.0   \n",
       "2020-01-07  South Korea        0.0                0.0         0.0   \n",
       "\n",
       "            hosp_patients  icu_patients  new_tests  positive_rate  \\\n",
       "date                                                                \n",
       "2020-01-03            0.0           0.0        0.0            0.0   \n",
       "2020-01-04            0.0           0.0        0.0            0.0   \n",
       "2020-01-05            0.0           0.0        0.0            0.0   \n",
       "2020-01-06            0.0           0.0        0.0            0.0   \n",
       "2020-01-07            0.0           0.0        0.0            0.0   \n",
       "\n",
       "            new_vaccinations  people_vaccinated  people_fully_vaccinated  \n",
       "date                                                                      \n",
       "2020-01-03               0.0                0.0                      0.0  \n",
       "2020-01-04               0.0                0.0                      0.0  \n",
       "2020-01-05               0.0                0.0                      0.0  \n",
       "2020-01-06               0.0                0.0                      0.0  \n",
       "2020-01-07               0.0                0.0                      0.0  "
      ]
     },
     "execution_count": 3,
     "metadata": {},
     "output_type": "execute_result"
    }
   ],
   "source": [
    "Data.head()"
   ]
  },
  {
   "cell_type": "code",
   "execution_count": 4,
   "id": "b53cacf4-4a65-468a-8409-dcd3f456b5c6",
   "metadata": {},
   "outputs": [],
   "source": [
    "# Data1 = Data[:'2022-01-31']\n",
    "# Mean_vacc_begining = np.mean(Data1['new_vaccinations'])\n",
    "# Mean_test_begining = np.mean(Data1['new_tests']) \n",
    "# Maximum_test_all = max(Data['new_tests'])\n",
    "# Maximum_vacc_all = max(Data['new_vaccinations'])\n",
    "# print('Mean test at the begining:', Mean_test_begining)\n",
    "# print('Maximum test:', Maximum_test_all)\n",
    "# print('Mean vaccinations at the begining:', Mean_vacc_begining)\n",
    "# print('Maximum vaccination:', Maximum_vacc_all)\n",
    "# plt.plot(Data1['new_vaccinations'])"
   ]
  },
  {
   "cell_type": "code",
   "execution_count": 5,
   "id": "46d89632-daa2-40f3-9b95-bd73f651682a",
   "metadata": {
    "tags": []
   },
   "outputs": [
    {
     "name": "stderr",
     "output_type": "stream",
     "text": [
      "C:\\Users\\sharbayta\\AppData\\Local\\Temp\\ipykernel_22116\\955679090.py:2: SettingWithCopyWarning: \n",
      "A value is trying to be set on a copy of a slice from a DataFrame.\n",
      "Try using .loc[row_indexer,col_indexer] = value instead\n",
      "\n",
      "See the caveats in the documentation: https://pandas.pydata.org/pandas-docs/stable/user_guide/indexing.html#returning-a-view-versus-a-copy\n",
      "  Data_Omicron['test_positive'] = Data_Omicron['new_tests']*Data_Omicron['positive_rate']\n"
     ]
    }
   ],
   "source": [
    "Data_Omicron = Data['2022-02-01':'2022-05-30']\n",
    "Data_Omicron['test_positive'] = Data_Omicron['new_tests']*Data_Omicron['positive_rate']"
   ]
  },
  {
   "cell_type": "code",
   "execution_count": 6,
   "id": "e9e43a9e-c8ae-43c1-8dd9-4ced1ce03ef0",
   "metadata": {
    "tags": []
   },
   "outputs": [
    {
     "data": {
      "text/html": [
       "<div>\n",
       "<style scoped>\n",
       "    .dataframe tbody tr th:only-of-type {\n",
       "        vertical-align: middle;\n",
       "    }\n",
       "\n",
       "    .dataframe tbody tr th {\n",
       "        vertical-align: top;\n",
       "    }\n",
       "\n",
       "    .dataframe thead th {\n",
       "        text-align: right;\n",
       "    }\n",
       "</style>\n",
       "<table border=\"1\" class=\"dataframe\">\n",
       "  <thead>\n",
       "    <tr style=\"text-align: right;\">\n",
       "      <th></th>\n",
       "      <th>location</th>\n",
       "      <th>new_cases</th>\n",
       "      <th>reproduction_rate</th>\n",
       "      <th>new_deaths</th>\n",
       "      <th>hosp_patients</th>\n",
       "      <th>icu_patients</th>\n",
       "      <th>new_tests</th>\n",
       "      <th>positive_rate</th>\n",
       "      <th>new_vaccinations</th>\n",
       "      <th>people_vaccinated</th>\n",
       "      <th>people_fully_vaccinated</th>\n",
       "      <th>test_positive</th>\n",
       "    </tr>\n",
       "    <tr>\n",
       "      <th>date</th>\n",
       "      <th></th>\n",
       "      <th></th>\n",
       "      <th></th>\n",
       "      <th></th>\n",
       "      <th></th>\n",
       "      <th></th>\n",
       "      <th></th>\n",
       "      <th></th>\n",
       "      <th></th>\n",
       "      <th></th>\n",
       "      <th></th>\n",
       "      <th></th>\n",
       "    </tr>\n",
       "  </thead>\n",
       "  <tbody>\n",
       "    <tr>\n",
       "      <th>2022-02-01</th>\n",
       "      <td>South Korea</td>\n",
       "      <td>20267.0</td>\n",
       "      <td>1.55</td>\n",
       "      <td>15.0</td>\n",
       "      <td>0.0</td>\n",
       "      <td>272.0</td>\n",
       "      <td>224950.0</td>\n",
       "      <td>0.0658</td>\n",
       "      <td>3323.0</td>\n",
       "      <td>44365186.0</td>\n",
       "      <td>43733104.0</td>\n",
       "      <td>14801.7100</td>\n",
       "    </tr>\n",
       "    <tr>\n",
       "      <th>2022-02-02</th>\n",
       "      <td>South Korea</td>\n",
       "      <td>22906.0</td>\n",
       "      <td>1.60</td>\n",
       "      <td>25.0</td>\n",
       "      <td>0.0</td>\n",
       "      <td>278.0</td>\n",
       "      <td>213460.0</td>\n",
       "      <td>0.0729</td>\n",
       "      <td>14025.0</td>\n",
       "      <td>44365703.0</td>\n",
       "      <td>43733972.0</td>\n",
       "      <td>15561.2340</td>\n",
       "    </tr>\n",
       "    <tr>\n",
       "      <th>2022-02-03</th>\n",
       "      <td>South Korea</td>\n",
       "      <td>27437.0</td>\n",
       "      <td>1.72</td>\n",
       "      <td>24.0</td>\n",
       "      <td>0.0</td>\n",
       "      <td>274.0</td>\n",
       "      <td>286476.0</td>\n",
       "      <td>0.0795</td>\n",
       "      <td>394225.0</td>\n",
       "      <td>44378056.0</td>\n",
       "      <td>43786376.0</td>\n",
       "      <td>22774.8420</td>\n",
       "    </tr>\n",
       "    <tr>\n",
       "      <th>2022-02-04</th>\n",
       "      <td>South Korea</td>\n",
       "      <td>36347.0</td>\n",
       "      <td>1.85</td>\n",
       "      <td>22.0</td>\n",
       "      <td>0.0</td>\n",
       "      <td>257.0</td>\n",
       "      <td>194411.0</td>\n",
       "      <td>0.0953</td>\n",
       "      <td>407972.0</td>\n",
       "      <td>44390550.0</td>\n",
       "      <td>43821838.0</td>\n",
       "      <td>18527.3683</td>\n",
       "    </tr>\n",
       "    <tr>\n",
       "      <th>2022-02-05</th>\n",
       "      <td>South Korea</td>\n",
       "      <td>38680.0</td>\n",
       "      <td>1.87</td>\n",
       "      <td>15.0</td>\n",
       "      <td>0.0</td>\n",
       "      <td>269.0</td>\n",
       "      <td>186014.0</td>\n",
       "      <td>0.1191</td>\n",
       "      <td>230104.0</td>\n",
       "      <td>44397834.0</td>\n",
       "      <td>43839883.0</td>\n",
       "      <td>22154.2674</td>\n",
       "    </tr>\n",
       "  </tbody>\n",
       "</table>\n",
       "</div>"
      ],
      "text/plain": [
       "               location  new_cases  reproduction_rate  new_deaths  \\\n",
       "date                                                                \n",
       "2022-02-01  South Korea    20267.0               1.55        15.0   \n",
       "2022-02-02  South Korea    22906.0               1.60        25.0   \n",
       "2022-02-03  South Korea    27437.0               1.72        24.0   \n",
       "2022-02-04  South Korea    36347.0               1.85        22.0   \n",
       "2022-02-05  South Korea    38680.0               1.87        15.0   \n",
       "\n",
       "            hosp_patients  icu_patients  new_tests  positive_rate  \\\n",
       "date                                                                \n",
       "2022-02-01            0.0         272.0   224950.0         0.0658   \n",
       "2022-02-02            0.0         278.0   213460.0         0.0729   \n",
       "2022-02-03            0.0         274.0   286476.0         0.0795   \n",
       "2022-02-04            0.0         257.0   194411.0         0.0953   \n",
       "2022-02-05            0.0         269.0   186014.0         0.1191   \n",
       "\n",
       "            new_vaccinations  people_vaccinated  people_fully_vaccinated  \\\n",
       "date                                                                       \n",
       "2022-02-01            3323.0         44365186.0               43733104.0   \n",
       "2022-02-02           14025.0         44365703.0               43733972.0   \n",
       "2022-02-03          394225.0         44378056.0               43786376.0   \n",
       "2022-02-04          407972.0         44390550.0               43821838.0   \n",
       "2022-02-05          230104.0         44397834.0               43839883.0   \n",
       "\n",
       "            test_positive  \n",
       "date                       \n",
       "2022-02-01     14801.7100  \n",
       "2022-02-02     15561.2340  \n",
       "2022-02-03     22774.8420  \n",
       "2022-02-04     18527.3683  \n",
       "2022-02-05     22154.2674  "
      ]
     },
     "execution_count": 6,
     "metadata": {},
     "output_type": "execute_result"
    }
   ],
   "source": [
    "Data_Omicron.head()"
   ]
  },
  {
   "cell_type": "code",
   "execution_count": 7,
   "id": "1f1f89d3-d287-4149-adb4-052a2afbcc9c",
   "metadata": {
    "tags": []
   },
   "outputs": [],
   "source": [
    "Max_daily_vac = np.max(Data['new_vaccinations'])\n",
    "#Min_daily_vac = np.min(np.nonzero(Data_Omicron['new_vaccinations']))\n",
    "Min_daily_vac = np.min(Data['new_vaccinations'][Data['new_vaccinations'] != 0])\n",
    "Max_daily_Tests = np.max(Data['new_tests'])\n",
    "Min_daily_Tests = np.min(Data['new_tests'][Data['new_tests'] != 0])"
   ]
  },
  {
   "cell_type": "code",
   "execution_count": 8,
   "id": "0ff0ecb5-f744-43f3-ab71-3d2241442118",
   "metadata": {
    "tags": []
   },
   "outputs": [
    {
     "name": "stdout",
     "output_type": "stream",
     "text": [
      "Daily_max_Vac =  1382042.0\n",
      "Daily_min_Vac =  34.0\n",
      "Daily_max_Test =  1154325.0\n",
      "Daily_min_Test =  427.0\n"
     ]
    }
   ],
   "source": [
    "print('Daily_max_Vac = ',Max_daily_vac)\n",
    "print('Daily_min_Vac = ',Min_daily_vac)\n",
    "print('Daily_max_Test = ',Max_daily_Tests)\n",
    "print('Daily_min_Test = ',Min_daily_Tests)"
   ]
  },
  {
   "cell_type": "code",
   "execution_count": 9,
   "id": "9d4d6122",
   "metadata": {},
   "outputs": [],
   "source": [
    "Omicron_New_Cases = pd.read_csv('Omicron_wave_Jan_May.csv',parse_dates=['date'],index_col= ['date'],)"
   ]
  },
  {
   "cell_type": "code",
   "execution_count": 10,
   "id": "9bd4b511-148f-4c2f-8896-c5ef86a8b5ba",
   "metadata": {
    "tags": []
   },
   "outputs": [],
   "source": [
    "SevendayRollingAve1 = pd.read_csv('7day_rolling_Ave.csv')"
   ]
  },
  {
   "cell_type": "code",
   "execution_count": 11,
   "id": "6ce84d75-7794-429b-8170-c9e08e8bf385",
   "metadata": {
    "tags": []
   },
   "outputs": [],
   "source": [
    "SevendayRollingAve = SevendayRollingAve1['NewCases_7day_rolling_Ave']"
   ]
  },
  {
   "cell_type": "code",
   "execution_count": 12,
   "id": "1462df0c",
   "metadata": {},
   "outputs": [
    {
     "data": {
      "text/html": [
       "<div>\n",
       "<style scoped>\n",
       "    .dataframe tbody tr th:only-of-type {\n",
       "        vertical-align: middle;\n",
       "    }\n",
       "\n",
       "    .dataframe tbody tr th {\n",
       "        vertical-align: top;\n",
       "    }\n",
       "\n",
       "    .dataframe thead th {\n",
       "        text-align: right;\n",
       "    }\n",
       "</style>\n",
       "<table border=\"1\" class=\"dataframe\">\n",
       "  <thead>\n",
       "    <tr style=\"text-align: right;\">\n",
       "      <th></th>\n",
       "      <th>location</th>\n",
       "      <th>new_cases</th>\n",
       "      <th>new_deaths</th>\n",
       "      <th>hosp_patients</th>\n",
       "      <th>new_tests</th>\n",
       "      <th>people_vaccinated</th>\n",
       "      <th>people_fully_vaccinated</th>\n",
       "    </tr>\n",
       "    <tr>\n",
       "      <th>date</th>\n",
       "      <th></th>\n",
       "      <th></th>\n",
       "      <th></th>\n",
       "      <th></th>\n",
       "      <th></th>\n",
       "      <th></th>\n",
       "      <th></th>\n",
       "    </tr>\n",
       "  </thead>\n",
       "  <tbody>\n",
       "    <tr>\n",
       "      <th>2022-02-01</th>\n",
       "      <td>South Korea</td>\n",
       "      <td>20267.0</td>\n",
       "      <td>15.0</td>\n",
       "      <td>0.0</td>\n",
       "      <td>224950.0</td>\n",
       "      <td>44365186.0</td>\n",
       "      <td>43733104.0</td>\n",
       "    </tr>\n",
       "    <tr>\n",
       "      <th>2022-02-02</th>\n",
       "      <td>South Korea</td>\n",
       "      <td>22906.0</td>\n",
       "      <td>25.0</td>\n",
       "      <td>0.0</td>\n",
       "      <td>213460.0</td>\n",
       "      <td>44365703.0</td>\n",
       "      <td>43733972.0</td>\n",
       "    </tr>\n",
       "    <tr>\n",
       "      <th>2022-02-03</th>\n",
       "      <td>South Korea</td>\n",
       "      <td>27437.0</td>\n",
       "      <td>24.0</td>\n",
       "      <td>0.0</td>\n",
       "      <td>286476.0</td>\n",
       "      <td>44378056.0</td>\n",
       "      <td>43786376.0</td>\n",
       "    </tr>\n",
       "    <tr>\n",
       "      <th>2022-02-04</th>\n",
       "      <td>South Korea</td>\n",
       "      <td>36347.0</td>\n",
       "      <td>22.0</td>\n",
       "      <td>0.0</td>\n",
       "      <td>194411.0</td>\n",
       "      <td>44390550.0</td>\n",
       "      <td>43821838.0</td>\n",
       "    </tr>\n",
       "    <tr>\n",
       "      <th>2022-02-05</th>\n",
       "      <td>South Korea</td>\n",
       "      <td>38680.0</td>\n",
       "      <td>15.0</td>\n",
       "      <td>0.0</td>\n",
       "      <td>186014.0</td>\n",
       "      <td>44397834.0</td>\n",
       "      <td>43839883.0</td>\n",
       "    </tr>\n",
       "  </tbody>\n",
       "</table>\n",
       "</div>"
      ],
      "text/plain": [
       "               location  new_cases  new_deaths  hosp_patients  new_tests  \\\n",
       "date                                                                       \n",
       "2022-02-01  South Korea    20267.0        15.0            0.0   224950.0   \n",
       "2022-02-02  South Korea    22906.0        25.0            0.0   213460.0   \n",
       "2022-02-03  South Korea    27437.0        24.0            0.0   286476.0   \n",
       "2022-02-04  South Korea    36347.0        22.0            0.0   194411.0   \n",
       "2022-02-05  South Korea    38680.0        15.0            0.0   186014.0   \n",
       "\n",
       "            people_vaccinated  people_fully_vaccinated  \n",
       "date                                                    \n",
       "2022-02-01         44365186.0               43733104.0  \n",
       "2022-02-02         44365703.0               43733972.0  \n",
       "2022-02-03         44378056.0               43786376.0  \n",
       "2022-02-04         44390550.0               43821838.0  \n",
       "2022-02-05         44397834.0               43839883.0  "
      ]
     },
     "execution_count": 12,
     "metadata": {},
     "output_type": "execute_result"
    }
   ],
   "source": [
    "Omicron_New_Cases.head()"
   ]
  },
  {
   "cell_type": "code",
   "execution_count": 13,
   "id": "5acb0d5c",
   "metadata": {},
   "outputs": [],
   "source": [
    "NewCases = Omicron_New_Cases['new_cases']  \n",
    "vaccinated = Omicron_New_Cases['people_vaccinated']\n",
    "newvaccinated = Data_Omicron['new_vaccinations']\n",
    "new_positive_tested = Data_Omicron['test_positive']\n",
    "new_death = Data_Omicron['new_deaths']"
   ]
  },
  {
   "cell_type": "code",
   "execution_count": 14,
   "id": "5728a750-ca8e-4a98-9125-e160756b40bc",
   "metadata": {},
   "outputs": [
    {
     "data": {
      "text/plain": [
       "4.979676433879021e-06"
      ]
     },
     "execution_count": 14,
     "metadata": {},
     "output_type": "execute_result"
    }
   ],
   "source": [
    "#newvaccinated.mean()\n",
    "mean_new_tests = Omicron_New_Cases['new_tests'].mean()\n",
    "0.01*(mean_new_tests/51815808)*0.0658"
   ]
  },
  {
   "cell_type": "code",
   "execution_count": 15,
   "id": "409c171f-ced0-4be9-8826-2b0b7ca5fed6",
   "metadata": {},
   "outputs": [],
   "source": [
    "cum_new_cases = np.cumsum(Omicron_New_Cases['new_cases'])\n",
    "cum_new_vacc = np.cumsum(newvaccinated)\n",
    "cum_new_pos_test = np.cumsum(new_positive_tested)\n",
    "cum_new_death = np.cumsum(new_death)\n",
    "#cum_new_cases.to_csv('cum_cases.csv')"
   ]
  },
  {
   "cell_type": "code",
   "execution_count": 16,
   "id": "daee73a9",
   "metadata": {},
   "outputs": [],
   "source": [
    "maxi= len(NewCases)\n",
    "tf = np.linspace(0, maxi, maxi)\n",
    "#tf1 = np.linspace(0, 50, 50)\n",
    "#tf2 = np.linspace(50, 119, 69)"
   ]
  },
  {
   "cell_type": "code",
   "execution_count": 17,
   "id": "3d89d250",
   "metadata": {},
   "outputs": [],
   "source": [
    "#Fixed parameter values\n",
    "pi = 1710; \n",
    "#beta1 =1.72;\n",
    "mu =1/(83*365); \n",
    "eps =0.33;   #Youngji paper\n",
    "tau1 = 0.8; tau2 = 0.8; tau =0.8;\n",
    "psi1 = 0.5; psi = 0.5;\n",
    "phi1, phi2 = 1/180, 1/180\n",
    "h1= 0.0045; \n",
    "h2 = (1-0.74)*h1;\n",
    "rho = 1/14; rhot =1/10; rhoh =1/10;\n",
    "eta1= 0.71; eta2= 0.41; eta4= 0.85; eta3 = 0.46;\n",
    "\n",
    "d1 =0.000071; d2 = 0.000073; \n",
    "\n",
    "\n",
    "\n",
    "#beta1 = (1.72*(eps+mu)*(mu+rho)*(mu+rho+d1))/(eps*((tau1+tau2)*(mu+rho) +(1-tau1)*psi1*(mu+rho+d1)))\n",
    "\n",
    "\n",
    "theta = 0.5 # parameter adjusting reduced perception risk (assumed)\n",
    "delta = 0.8  # proportion of tested people who quarantine/adhere to protective measures (assumed)\n",
    "\n",
    "Dtilde, Btilde = 5, 5\n",
    "D, B = 1*Dtilde, 1*Btilde\n",
    "Fmax = 0.027; F10 = 0.0029; F20 = (0.9)*F10;\n",
    "Tmax = 0.5; T10 = 0.03; T20 = 0.03\n",
    "#Tmax = 0.022;  T10 = 0.0013; T20 = T10;  \n",
    "a = 1/3  # fixed to be 3 days \n",
    "\n",
    "alpha1, alpha2 = 0.5, 0.5\n"
   ]
  },
  {
   "cell_type": "code",
   "execution_count": 18,
   "id": "e6b9ab29",
   "metadata": {},
   "outputs": [],
   "source": [
    "#initital guess for the parameters to be fitted\n",
    "beta1 = 1.14\n",
    "beta2 = 1.6;  \n",
    "k1 = 0.8; \n",
    "xi= 0.5; \n",
    "#d1, d2 = 0.00012, 0.00012\n",
    "# guess = [beta2,D,Dtilde,k1,B,Btilde,a,phi1,phi2,xi,h1,h2,Fmax, F10,F20,Tmax,T10,T20]"
   ]
  },
  {
   "cell_type": "code",
   "execution_count": 19,
   "id": "465f72f9",
   "metadata": {},
   "outputs": [],
   "source": [
    "# Initial conditions\n",
    "NN = 51815808\n",
    "V2_0 = int(0.87*Data_Omicron['new_vaccinations'].iloc[0])\n",
    "V1_0 = int(0.13*Data_Omicron['new_vaccinations'].iloc[0])\n",
    "E2_0 = int(0.87*20*NewCases.iloc[0])\n",
    "A2_0 = int(0.2*E2_0)\n",
    "I2_0 = int(0.8*E2_0)\n",
    "IT2_0 = int(0.87*NewCases.iloc[0])\n",
    "E1_0 =int(0.13*20*NewCases.iloc[0])  # 0.13 indicates that 13% of the total population is in the first dynamics\n",
    "A1_0 = int(0.2*E1_0)\n",
    "I1_0 = int(0.8*E1_0)\n",
    "IT1_0 = int(0.13*NewCases.iloc[0])\n",
    "H_0 = 202  # ICU\n",
    "R_0 = 200\n",
    "D_0 = 15\n",
    "MV_0 = k1*((I1_0 + I2_0 + IT1_0 + IT2_0 + H_0)/NN)\n",
    "MN_0 = k1*((H_0 + d1*(I1_0+I2_0) + d2*H_0)/NN)\n",
    "S2_0 = 40000000 # 0.9*(Omicron_New_Cases['people_vaccinated'].iloc[0])\n",
    "S3_0 = 4365186 #0.1*(Omicron_New_Cases['people_vaccinated'].iloc[0])\n",
    "S1_0 = NN-(S2_0 + S3_0 + V1_0 + V2_0 + E1_0 + E2_0 + A1_0 + A2_0 + I1_0 + I2_0 + IT1_0 + IT2_0 + H_0 + R_0)"
   ]
  },
  {
   "cell_type": "code",
   "execution_count": 20,
   "id": "7b19e419-5aca-4f36-a4b3-f3d762ac5309",
   "metadata": {},
   "outputs": [],
   "source": [
    "x0 = [S1_0, S2_0, S3_0, V1_0, V2_0, E1_0, E2_0, A1_0, A2_0, I1_0, I2_0, IT1_0, IT2_0, H_0, R_0, D_0, MV_0, MN_0]"
   ]
  },
  {
   "cell_type": "code",
   "execution_count": 21,
   "id": "464a066a-8b5e-4c46-a4b1-3c182e7b3daa",
   "metadata": {},
   "outputs": [
    {
     "data": {
      "text/plain": [
       "2634"
      ]
     },
     "execution_count": 21,
     "metadata": {},
     "output_type": "execute_result"
    }
   ],
   "source": [
    "IT1_0"
   ]
  },
  {
   "cell_type": "code",
   "execution_count": 22,
   "id": "6f6ef201",
   "metadata": {},
   "outputs": [],
   "source": [
    "def model_eq(x,tf,pi, mu,eps, tau1, tau2, rho, rhot, rhoh, psi1,eta1, eta2, D,Dtilde, a,phi1, phi2, h1, h2,Fmax, F10,F20,Tmax,T10,T20, beta1,beta2,k1,xi, d1, d2):\n",
    "    S1, S2, S3, V1, V2, E1, E2, A1, A2, I1, I2, I_T1, I_T2, H, R, Dth, MV,MN = x\n",
    "    #dx = np.zeros(9)\n",
    "    \n",
    "    \n",
    "    N= S1 + S2+ S3 + V1 + V2 + E1 + E2 + A1 + A2 + I1 + I2 + I_T1 + I_T2 + H + R\n",
    "    \n",
    "    T1 = T10 + (Tmax -T10)*(alpha1*(D*MV)/(1+D*MV) + (1-alpha1)*(B*MN)/(1+B*MN) )\n",
    "    F1 = F10 + (Fmax -F10)*(alpha1*(Dtilde*MV)/(1+Dtilde*MV) + (1-alpha1)*(Btilde*MN)/(1+Btilde*MN))\n",
    "    \n",
    "    T2 = T20 + (Tmax -T20)*(alpha2*(theta*D*MV)/(1+theta*D*MV) + (1-alpha2)*(theta*B*MN)/(1+theta*B*MN) )\n",
    "    F2 = F20 + (Fmax -F20)*(alpha2*(theta*Dtilde*MV)/(1+theta*Dtilde*MV) + (1-alpha2)*(theta*Btilde*MN)/(1+theta*Btilde*MN))\n",
    "    \n",
    "    L1 = beta1*(I1 + I2 + psi1*(A1 + A2) +(1-delta)*(I_T1 + I_T2))/(N-(delta*(I_T1 + I_T2) + H))\n",
    "    L2 = beta2*(I1 + I2 + psi1*(A1 + A2) +(1-delta)*(I_T1 + I_T2))/(N-(delta*(I_T1 + I_T2) + H))\n",
    "    \n",
    "    dS1 = pi-(F1 +L1 +mu)*S1\n",
    "    dS2 = phi1*V1 -((1-eta2)*L2+F2+mu)*S2\n",
    "    dS3 = phi2*R-((1-eta3)*L2+F2+mu)*S3\n",
    "    dV1 = F1*S1-phi1*V1-(1-eta1)*L2*V1-mu*V1\n",
    "    dV2 = F2*S2+F2*S3-(1-eta4)*L2*V2-mu*V2\n",
    "    dE1 = L1*S1-(eps+mu)*E1\n",
    "    dE2 = (1-eta1)*L2*V1+(1-eta4)*L2*V2+L2*((1-eta2)*S2+(1-eta3)*S3)-(mu+eps)*E2\n",
    "    dA1 = (1-tau1)*eps*E1-xi*T1*A1-(rho+mu)*A1\n",
    "    dA2 = (1-tau2)*eps*E2-xi*T2*A2-(rho+mu)*A2\n",
    "    dI1 = tau1*eps*E1-T1*I1-(rho+d1+mu)*I1\n",
    "    dI2 = tau2*eps*E2-T2*I2-(rho+d1+mu)*I2\n",
    "    dI_T1 = xi*T1*A1+T1*I1-(rhot+h1+mu)*I_T1\n",
    "    dI_T2 = xi*T2*A2+T2*I2-(rhot+h2+mu)*I_T2\n",
    "    dH = h1*I_T1+h2*I_T2-rhoh*H-(d2+mu)*H\n",
    "    dR = rho*(A1+A2+I1+I2)+rhot*(I_T1+I_T2)+rhoh*H-(phi2+mu)*R\n",
    "    dDth = d1*(I1+I2)+d2*H\n",
    "    dMV = a*(k1*((I_T1+I1+I2+I_T2+H)/NN) - MV)\n",
    "    dMN = a*(k1*((H + d1*(I1 + I2) + d2*H)/NN)-MN)\n",
    "    return dS1, dS2, dS3, dV1, dV2, dE1, dE2, dA1, dA2, dI1, dI2, dI_T1, dI_T2, dH, dR, dDth, dMV, dMN"
   ]
  },
  {
   "cell_type": "code",
   "execution_count": 23,
   "id": "583ad3e6",
   "metadata": {},
   "outputs": [],
   "source": [
    "def solve_ode(tf,beta1,beta2, k1, xi):\n",
    "    y = odeint(model_eq, x0, tf,args = (pi, mu,eps, tau1, tau2, rho, rhot, rhoh, psi1,eta1, eta2, D,Dtilde, a,phi1, phi2,h1, h2,Fmax, F10,F20,Tmax,T10,T20,beta1,beta2, k1, xi,d1, d2))   \n",
    "    Vac1_1 = F10 + (Fmax -F10)*(alpha1* np.divide(Dtilde*y[:,16],(1+Dtilde*y[:,16])) + (1-alpha1)* np.divide(Btilde*y[:,17],(1+Btilde*y[:,17])))  \n",
    "    Vac2_1 = F20 + (Fmax -F20)*(alpha2* np.divide(theta*Dtilde*y[:,16],(1+theta*Dtilde*y[:,16])) + (1-alpha2)* np.divide(theta*Btilde*y[:,17],(1+theta*Btilde*y[:,17])) ) \n",
    "    new_vac =  np.multiply(Vac1_1,y[:,0]) + np.multiply(Vac2_1,(y[:,1]+y[:,2]))\n",
    "\n",
    "    Test1_1 = T10 + (Tmax -T10)*(alpha1* np.divide(D*y[:,16],(1+D*y[:,16])) + (1-alpha1)* np.divide(B*y[:,17],(1+B*y[:,17]))) \n",
    "    Test2_1 = T20 + (Tmax -T20)*(alpha2* np.divide(theta*D*y[:,16],(1+theta*D*y[:,16])) + (1-alpha2)* np.divide(theta*B*y[:,17],(1+theta*B*y[:,17]))) \n",
    "    new_test = np.multiply(Test1_1,(xi*y[:,7]+ y[:,9])) + np.multiply(Test2_1,(xi*y[:,8]+ y[:,10]))\n",
    "    #Daily_tested = np.diff(y[:,11]+y[:,12])\n",
    "    new_death1 = d1*(y[:,9]+y[:,10])+d2*y[:,13]\n",
    "\n",
    "    # NNN = y[:,0] + y[:,1]  + y[:,2] + y[:,3] + y[:,4] + y[:,5] +y[:,6] + y[:,7] + y[:,8]  + y[:,9] + y[:,10] + y[:,14]\n",
    "    # L11 = np.divide(beta1*(y[:,9] + y[:,10] + psi1*(y[:,7] + y[:,8])),NNN)\n",
    "    # L22 = np.divide(beta2*(y[:,9] + y[:,10] + psi1*(y[:,7] + y[:,8])),NNN)\n",
    "    # new_inf = np.multiply(L11,y[:,0]) + np.multiply(L22,(y[:,1] + y[:,2])) + (1-eta1)*np.multiply(L11,y[:,3]) + (1-eta2)*np.multiply(L22,y[:,4])  \n",
    "\n",
    "\n",
    "    #App_cum_cases = np.cumsum(y[:,9] + y[:,10])\n",
    "    #App_cum_vac = np.cumsum(y[:,3] + y[:,4])\n",
    "    App_cum_cases = np.cumsum(new_test)\n",
    "    App_cum_vac = np.cumsum(new_vac)\n",
    "    #App_cum_test = np.cumsum(new_test)\n",
    "    App_cum_death = np.cumsum(new_death1)\n",
    "    return App_cum_cases, App_cum_vac, App_cum_death"
   ]
  },
  {
   "cell_type": "code",
   "execution_count": 24,
   "id": "a128056d-8038-4fe8-b766-0723ec6ba765",
   "metadata": {},
   "outputs": [],
   "source": [
    "def fit_model(tf,beta1,beta2, k1, xi):\n",
    "    apr_cum_cases, apr_cum_vac, apr_cum_death = solve_ode(tf, beta1, beta2, k1, xi)\n",
    "    return np.concatenate([apr_cum_cases, apr_cum_vac, apr_cum_death])\n",
    "    "
   ]
  },
  {
   "cell_type": "code",
   "execution_count": 25,
   "id": "93895435-80f1-401a-a3ae-31c62bdef188",
   "metadata": {},
   "outputs": [],
   "source": [
    "def sum_squared_error(params, tf, cum_new_cases, cum_new_vacc, cum_new_death):\n",
    "    beta1, beta2, k1, xi = params\n",
    "    y_fit_infected, y_fit_vacc, y_fit_death = solve_ode(tf, beta1, beta2, k1, xi)\n",
    "    error_inf = cum_new_cases - y_fit_infected\n",
    "    error_vacc = cum_new_vacc - y_fit_vacc\n",
    "    error_death =  cum_new_death - y_fit_death\n",
    "    return np.sum(error_inf**2) + np.sum(error_vacc**2) + np.sum(error_death**2)"
   ]
  },
  {
   "cell_type": "code",
   "execution_count": 26,
   "id": "9c69abaa-1608-4d0c-a8ad-ae585865e546",
   "metadata": {},
   "outputs": [],
   "source": [
    "official_cum_data = np.concatenate([cum_new_cases,cum_new_vacc,cum_new_death])  "
   ]
  },
  {
   "cell_type": "code",
   "execution_count": 27,
   "id": "da7300f6",
   "metadata": {},
   "outputs": [
    {
     "name": "stdout",
     "output_type": "stream",
     "text": [
      "Maximum iteration = 1\n",
      "Reproduction number = 0.19831839223535824\n"
     ]
    }
   ],
   "source": [
    "tolerance = 1\n",
    "iteration = 0\n",
    "max_iterations = 1\n",
    "current_params = [beta1, beta2,k1,xi]\n",
    "\n",
    "while iteration < max_iterations:\n",
    "    # Use curve_fit to fit the SIR model to the data.\n",
    "    #  [(0,   0,   0,   0.5,  0,   0,   1/5,  0,     0.02,     1.8e-5,   1.8e-5,     0.8,      5e-6,  0.5),\\\n",
    "    # (2,   100, 100, 0.9,  100, 100, 1/2,  0.9,   0.27,     1.9e-2,   1.9e-2,     0.9,    0.75,  0.75)]\n",
    "    \n",
    "    popt, pcov = curve_fit(fit_model,tf,official_cum_data,p0 = current_params,bounds =[(0,0,0,0), (3,3,1,1)])   \n",
    "    current_error = sum_squared_error(popt, tf, cum_new_cases,cum_new_vacc,cum_new_death) #cum_new_cases\n",
    "\n",
    "    # Check if the sum squared error is below the tolerance.\n",
    "    if current_error < tolerance:\n",
    "        break\n",
    "\n",
    "    # Update the initial parameters with the current parameters.\n",
    "    current_params = popt\n",
    "\n",
    "    iteration += 1\n",
    "print('Maximum iteration =', iteration)  \n",
    "#print('Current error = ',current_error)\n",
    "fitted_cum_cases, fitted_cum_vacc, fitted_cum_death = solve_ode(tf, *popt)\n",
    "\n",
    "beta1 = popt[0]; beta2 = popt[1];  k1 = popt[2];  \n",
    "xi = popt[3]; \n",
    "\n",
    "\n",
    "S1_dfe = pi/(F10 +mu); S2_dfe = (pi*phi1*F10)/((phi1+mu)*(F10+mu)*(F20+mu)); V1_dfe = (pi*F10)/((phi1+mu)*(F10 +mu));\n",
    "V2_dfe = (pi*phi1*F10*F20)/(mu*(phi1+mu)*(F10+mu)*(F20+mu));\n",
    "N_dfe = S1_dfe + S2_dfe + V1_dfe + V2_dfe;\n",
    "\n",
    "C1 = (beta1*S1_dfe)/N_dfe;  C2 = (1/N_dfe)*(beta2*((1-eta2)*S2_dfe + (1-eta4)*V2_dfe) + beta1*(1-eta1)*V1_dfe);\n",
    "M1 = (eps*(1-tau))/((mu +eps)*(mu+rho+xi*T10))\n",
    "M2 = (eps*tau)/((mu +eps)*(d1+mu+rho+T10))\n",
    "M3 = (eps*tau)/((mu +eps)*(d1+mu+rho+T20))\n",
    "M4 = ( xi*(1-tau)*T10*eps*(d1+mu+rho+T10) + tau*T10*eps*(mu+rho+xi*T10))/((mu +eps)*(d1+mu+rho+T10)*(h1+mu+rhot)*(mu+rho+xi*T10))\n",
    "M5 = tau*T20*eps/((mu +eps)*(d1+mu+rho+T20)*(h2+mu+rhot))\n",
    "M6 = (eps*(1-tau))/((mu +eps)*(mu+rho+xi*T20))\n",
    "M7 = xi*(1-tau)*eps*T20/((mu +eps)*(mu+rho+xi*T20)*(h2+mu+rhot))\n",
    "R_e = C1*(psi*M1 + M2 + M3 + (1-delta)*(M4+M5)) + C2*(psi*M6 + (1-delta)*M7)\n",
    "print('Reproduction number =', R_e)\n"
   ]
  },
  {
   "cell_type": "code",
   "execution_count": 28,
   "id": "71b12a68-3c6d-43d4-b06e-548264eccadd",
   "metadata": {},
   "outputs": [
    {
     "data": {
      "image/png": "[encoded data removed]",
      "text/plain": [
       "<Figure size 1300x500 with 3 Axes>"
      ]
     },
     "metadata": {},
     "output_type": "display_data"
    }
   ],
   "source": [
    "def millions_formatter(x, pos):    \n",
    "    return f'{(x / 1000000):.0f}'\n",
    "fig, axs = plt.subplots(1,3,figsize=(13,5))\n",
    "axs[0].plot(Omicron_New_Cases.index.values, cum_new_cases, 'ro', label='Observed data') \n",
    "axs[0].plot(Omicron_New_Cases.index.values,fitted_cum_cases , 'b-', label='Fitted')\n",
    "axs[0].set_xlabel('Time(days)',fontsize=16)\n",
    "axs[0].yaxis.set_major_formatter(FuncFormatter(millions_formatter))\n",
    "axs[0].set_ylabel('Cumulative daily cases \\n (in millions)',fontsize=16)\n",
    "axs[0].set_title('(a)',fontsize=16)\n",
    "axs[0].tick_params(axis='x', rotation=45)\n",
    "axs[0].legend()\n",
    "\n",
    "axs[1].plot(Omicron_New_Cases.index.values, cum_new_vacc, 'go', label='Observed data')\n",
    "axs[1].plot(Omicron_New_Cases.index.values, fitted_cum_vacc, 'b-', label='Fitted')\n",
    "axs[1].set_xlabel('Time(days)',fontsize=16)\n",
    "axs[1].yaxis.set_major_formatter(FuncFormatter(millions_formatter))\n",
    "axs[1].set_ylabel('Cumulative daily vaccinated \\n (in millions)',fontsize=16)\n",
    "axs[1].set_title('(b)',fontsize=16)\n",
    "axs[1].tick_params(axis='x', rotation=45)\n",
    "axs[1].legend()\n",
    "\n",
    "axs[2].plot(Omicron_New_Cases.index.values, cum_new_death, 'ko', label='Observed')\n",
    "axs[2].plot(Omicron_New_Cases.index.values, fitted_cum_death, 'b-', label='Fitted')\n",
    "axs[2].set_xlabel('Time(days)',fontsize=16)\n",
    "#axs[2].yaxis.set_major_formatter(FuncFormatter(millions_formatter))\n",
    "axs[2].set_ylabel('Cumulative daily death ',fontsize=16)\n",
    "axs[2].set_title('(c)',fontsize=16)\n",
    "axs[2].tick_params(axis='x', rotation=45)\n",
    "axs[2].legend()\n",
    "plt.tight_layout()\n",
    "plt.savefig('full_model_fit_New_BB.png')\n",
    "plt.show()\n"
   ]
  },
  {
   "cell_type": "markdown",
   "id": "05653704-5a2d-43f3-80fe-f8edad618548",
   "metadata": {},
   "source": [
    "# Fitted parameter values"
   ]
  },
  {
   "cell_type": "code",
   "execution_count": 29,
   "id": "96e1ada8-f0c9-45c1-89f1-7fe9bdffb22a",
   "metadata": {},
   "outputs": [
    {
     "name": "stdout",
     "output_type": "stream",
     "text": [
      "\n",
      " Behavior related parameters\n",
      "\n",
      " k1=  0.505784569956099\n",
      "\n",
      " Non-Behavior related parameters\n",
      "\n",
      " beta1=  0.6535066759260209\n",
      "\n",
      " beta2=  0.3939311269385401\n",
      "\n",
      " xi=  0.9999999999999979\n"
     ]
    }
   ],
   "source": [
    "print('\\n Behavior related parameters')\n",
    "print('\\n k1= ',k1)\n",
    "\n",
    "print('\\n Non-Behavior related parameters')\n",
    "print('\\n beta1= ',beta1)\n",
    "print('\\n beta2= ',beta2)\n",
    "print('\\n xi= ', xi)\n",
    "# print('\\n d1 = ', d1)\n",
    "# print('\\n d2 = ', d2)"
   ]
  },
  {
   "cell_type": "code",
   "execution_count": null,
   "id": "8a8c556d-e2de-4e08-9280-5b66661199d2",
   "metadata": {},
   "outputs": [],
   "source": []
  },
  {
   "cell_type": "code",
   "execution_count": null,
   "id": "62e51f07-d161-4597-b7dc-c860bdc287a7",
   "metadata": {},
   "outputs": [],
   "source": []
  }
 ],
 "metadata": {
  "kernelspec": {
   "display_name": "Python 3 (ipykernel)",
   "language": "python",
   "name": "python3"
  },
  "language_info": {
   "codemirror_mode": {
    "name": "ipython",
    "version": 3
   },
   "file_extension": ".py",
   "mimetype": "text/x-python",
   "name": "python",
   "nbconvert_exporter": "python",
   "pygments_lexer": "ipython3",
   "version": "3.11.5"
  }
 },
 "nbformat": 4,
 "nbformat_minor": 5
}
